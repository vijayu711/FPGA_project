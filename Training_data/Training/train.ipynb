{
 "cells": [
  {
   "cell_type": "code",
   "execution_count": 3,
   "id": "0d1909db-cb06-4df4-87b5-66e8d2b46f87",
   "metadata": {},
   "outputs": [
    {
     "name": "stdout",
     "output_type": "stream",
     "text": [
      "✅ Model trained. Weights saved to: w1.npy, b1.npy, w2.npy, b2.npy\n"
     ]
    }
   ],
   "source": [
    "import os\n",
    "import cv2\n",
    "import numpy as np\n",
    "import pandas as pd\n",
    "from sklearn.neural_network import MLPRegressor\n",
    "from sklearn.model_selection import train_test_split\n",
    "\n",
    "# Config\n",
    "CSV_PATH = \"labels.csv\"\n",
    "IMAGE_FOLDER = \"images_bw\"\n",
    "TARGET_SIZE = (64, 64)  # updated size\n",
    "SCALE_INPUT = True  # normalize image pixels\n",
    "\n",
    "# Load images and bounding box labels\n",
    "def load_data(csv_path, image_folder, target_size):\n",
    "    df = pd.read_csv(csv_path)\n",
    "    X, y = [], []\n",
    "\n",
    "    for _, row in df.iterrows():\n",
    "        img_path = os.path.join(image_folder, row[\"image_name\"])\n",
    "        img = cv2.imread(img_path, cv2.IMREAD_GRAYSCALE)\n",
    "        if img is None:\n",
    "            print(\"⚠️ Skipped:\", img_path)\n",
    "            continue\n",
    "        img = cv2.resize(img, target_size)\n",
    "        if SCALE_INPUT:\n",
    "            img = img / 255.0\n",
    "        X.append(img.flatten())\n",
    "\n",
    "        # Normalize bbox values\n",
    "        iw, ih = row[\"image_width\"], row[\"image_height\"]\n",
    "        x = row[\"bbox_x\"] / iw\n",
    "        y_ = row[\"bbox_y\"] / ih\n",
    "        w = row[\"bbox_width\"] / iw\n",
    "        h = row[\"bbox_height\"] / ih\n",
    "        y.append([x, y_, w, h])\n",
    "\n",
    "    return np.array(X), np.array(y)\n",
    "\n",
    "# Load data\n",
    "X, y = load_data(CSV_PATH, IMAGE_FOLDER, TARGET_SIZE)\n",
    "X_train, X_test, y_train, y_test = train_test_split(X, y, test_size=0.2, random_state=42)\n",
    "\n",
    "# Train model\n",
    "model = MLPRegressor(hidden_layer_sizes=(32,), activation=\"relu\", max_iter=1000, random_state=42)\n",
    "model.fit(X_train, y_train)\n",
    "\n",
    "# Save weights and biases\n",
    "np.save(\"w1.npy\", model.coefs_[0])\n",
    "np.save(\"b1.npy\", model.intercepts_[0])\n",
    "np.save(\"w2.npy\", model.coefs_[1])\n",
    "np.save(\"b2.npy\", model.intercepts_[1])\n",
    "\n",
    "print(\"✅ Model trained. Weights saved to: w1.npy, b1.npy, w2.npy, b2.npy\")\n"
   ]
  },
  {
   "cell_type": "code",
   "execution_count": 2,
   "id": "a53e6f0a-e221-4659-9db4-56bdf8e7a6d9",
   "metadata": {},
   "outputs": [
    {
     "name": "stdout",
     "output_type": "stream",
     "text": [
      "Collecting opencv-python\n",
      "  Downloading opencv_python-4.11.0.86-cp37-abi3-win_amd64.whl.metadata (20 kB)\n",
      "Requirement already satisfied: numpy>=1.21.2 in c:\\users\\vuppalapati2024\\appdata\\local\\anaconda3\\lib\\site-packages (from opencv-python) (1.26.4)\n",
      "Downloading opencv_python-4.11.0.86-cp37-abi3-win_amd64.whl (39.5 MB)\n",
      "   ---------------------------------------- 0.0/39.5 MB ? eta -:--:--\n",
      "   ----------------------- ---------------- 23.1/39.5 MB 112.3 MB/s eta 0:00:01\n",
      "   ---------------------------------------  39.3/39.5 MB 113.9 MB/s eta 0:00:01\n",
      "   ---------------------------------------- 39.5/39.5 MB 83.8 MB/s eta 0:00:00\n",
      "Installing collected packages: opencv-python\n",
      "Successfully installed opencv-python-4.11.0.86\n"
     ]
    }
   ],
   "source": [
    "!pip install opencv-python\n"
   ]
  },
  {
   "cell_type": "code",
   "execution_count": null,
   "id": "19fe6600-cd74-4d85-ab52-691192db0e2a",
   "metadata": {},
   "outputs": [],
   "source": []
  }
 ],
 "metadata": {
  "kernelspec": {
   "display_name": "Python 3 (ipykernel)",
   "language": "python",
   "name": "python3"
  },
  "language_info": {
   "codemirror_mode": {
    "name": "ipython",
    "version": 3
   },
   "file_extension": ".py",
   "mimetype": "text/x-python",
   "name": "python",
   "nbconvert_exporter": "python",
   "pygments_lexer": "ipython3",
   "version": "3.12.7"
  }
 },
 "nbformat": 4,
 "nbformat_minor": 5
}
