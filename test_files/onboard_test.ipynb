{
 "cells": [
  {
   "cell_type": "code",
   "execution_count": 10,
   "metadata": {},
   "outputs": [
    {
     "name": "stdout",
     "output_type": "stream",
     "text": [
      "📦 Predicted Bounding Box: [0.50390625, 0.0009765625, 0.0029296875, 0.0029296875]\n"
     ]
    },
    {
     "data": {
      "image/png": "[encoded data removed]",
      "text/plain": [
       "<matplotlib.figure.Figure at 0xa4df9050>"
      ]
     },
     "metadata": {},
     "output_type": "display_data"
    }
   ],
   "source": [
    "import numpy as np\n",
    "import cv2\n",
    "from pynq import Overlay\n",
    "import matplotlib.pyplot as plt\n",
    "import matplotlib.patches as patches\n",
    "\n",
    "# --- Load FPGA overlay ---\n",
    "overlay = Overlay(\"design_1_wrapper.bit\")\n",
    "ip = overlay.object_detect_nnbw_0\n",
    "scale = 2 ** 10  # Q10 fixed-point scale\n",
    "\n",
    "# --- Load and preprocess image ---\n",
    "img_path = \"apple3.jpg\"  \n",
    "img = cv2.imread(img_path, cv2.IMREAD_GRAYSCALE)\n",
    "if img is None:\n",
    "    raise FileNotFoundError(f\"Image not found: {img_path}\")\n",
    "img_resized = cv2.resize(img, (64, 64)).astype(np.float32) / 255.0\n",
    "flat = img_resized.flatten()\n",
    "fixed_input = (flat * scale).astype(np.int16)\n",
    "\n",
    "# --- Write input to FPGA ---\n",
    "for i in range(64 * 64):  # 4096 pixels\n",
    "    ip.write(0x10 + i * 4, int(fixed_input[i]))\n",
    "\n",
    "# --- Start FPGA IP ---\n",
    "ip.write(0x00, 0x01)\n",
    "while (ip.read(0x00) & 0x2) == 0:\n",
    "    pass\n",
    "\n",
    "# --- Read output bounding box ---\n",
    "output = [ip.read(0x100 + i * 4) / scale for i in range(4)]\n",
    "print(\"📦 Predicted Bounding Box:\", output)\n",
    "\n",
    "# --- Visualize bounding box on the original image ---\n",
    "x = int(output[0] * img.shape[1])\n",
    "y = int(output[1] * img.shape[0])\n",
    "w = int(output[2] * img.shape[1])\n",
    "h = int(output[3] * img.shape[0])\n",
    "\n",
    "fig, ax = plt.subplots()\n",
    "ax.imshow(img, cmap='gray')\n",
    "rect = patches.Rectangle((x, y), w, h, linewidth=2, edgecolor='red', facecolor='none')\n",
    "ax.add_patch(rect)\n",
    "plt.title(\"Predicted Bounding Box\")\n",
    "plt.axis('off')\n",
    "plt.show()\n"
   ]
  },
  {
   "cell_type": "code",
   "execution_count": null,
   "metadata": {},
   "outputs": [],
   "source": []
  }
 ],
 "metadata": {
  "kernelspec": {
   "display_name": "Python 3",
   "language": "python",
   "name": "python3"
  },
  "language_info": {
   "codemirror_mode": {
    "name": "ipython",
    "version": 3
   },
   "file_extension": ".py",
   "mimetype": "text/x-python",
   "name": "python",
   "nbconvert_exporter": "python",
   "pygments_lexer": "ipython3",
   "version": "3.6.5"
  }
 },
 "nbformat": 4,
 "nbformat_minor": 2
}
